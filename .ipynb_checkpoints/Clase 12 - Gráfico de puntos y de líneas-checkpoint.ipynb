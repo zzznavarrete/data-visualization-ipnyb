{
 "cells": [
  {
   "cell_type": "markdown",
   "metadata": {},
   "source": [
    "# Clase 12 - Gráficos de puntos y de líneas"
   ]
  },
  {
   "cell_type": "markdown",
   "metadata": {},
   "source": [
    "## A. Importar librerías requeridas"
   ]
  },
  {
   "cell_type": "code",
   "execution_count": 1,
   "metadata": {},
   "outputs": [],
   "source": [
    "# Importo librerias\n",
    "import matplotlib.pyplot as plt\n",
    "import pandas as pd\n",
    "import seaborn as sns\n",
    "import numpy as np"
   ]
  },
  {
   "cell_type": "markdown",
   "metadata": {},
   "source": [
    "## B. Cargar dataset\n",
    "\n",
    "El dataset que cargaremos consiste en obsercaciones de resonancia magnética (fmri) hecha a diferentes pacientes (conlumna subject)"
   ]
  },
  {
   "cell_type": "code",
   "execution_count": 2,
   "metadata": {},
   "outputs": [],
   "source": [
    "fmri = sns.load_dataset(\"fmri\")"
   ]
  },
  {
   "cell_type": "code",
   "execution_count": 4,
   "metadata": {},
   "outputs": [
    {
     "data": {
      "text/plain": [
       "1064"
      ]
     },
     "execution_count": 4,
     "metadata": {},
     "output_type": "execute_result"
    }
   ],
   "source": [
    "# Cuántas obsercaciones hay en el dataset?\n",
    "len(fmri)"
   ]
  },
  {
   "cell_type": "code",
   "execution_count": 6,
   "metadata": {},
   "outputs": [
    {
     "data": {
      "text/html": [
       "<div>\n",
       "<style scoped>\n",
       "    .dataframe tbody tr th:only-of-type {\n",
       "        vertical-align: middle;\n",
       "    }\n",
       "\n",
       "    .dataframe tbody tr th {\n",
       "        vertical-align: top;\n",
       "    }\n",
       "\n",
       "    .dataframe thead th {\n",
       "        text-align: right;\n",
       "    }\n",
       "</style>\n",
       "<table border=\"1\" class=\"dataframe\">\n",
       "  <thead>\n",
       "    <tr style=\"text-align: right;\">\n",
       "      <th></th>\n",
       "      <th>subject</th>\n",
       "      <th>timepoint</th>\n",
       "      <th>event</th>\n",
       "      <th>region</th>\n",
       "      <th>signal</th>\n",
       "    </tr>\n",
       "  </thead>\n",
       "  <tbody>\n",
       "    <tr>\n",
       "      <td>0</td>\n",
       "      <td>s13</td>\n",
       "      <td>18</td>\n",
       "      <td>stim</td>\n",
       "      <td>parietal</td>\n",
       "      <td>-0.017552</td>\n",
       "    </tr>\n",
       "    <tr>\n",
       "      <td>1</td>\n",
       "      <td>s5</td>\n",
       "      <td>14</td>\n",
       "      <td>stim</td>\n",
       "      <td>parietal</td>\n",
       "      <td>-0.080883</td>\n",
       "    </tr>\n",
       "    <tr>\n",
       "      <td>2</td>\n",
       "      <td>s12</td>\n",
       "      <td>18</td>\n",
       "      <td>stim</td>\n",
       "      <td>parietal</td>\n",
       "      <td>-0.081033</td>\n",
       "    </tr>\n",
       "    <tr>\n",
       "      <td>3</td>\n",
       "      <td>s11</td>\n",
       "      <td>18</td>\n",
       "      <td>stim</td>\n",
       "      <td>parietal</td>\n",
       "      <td>-0.046134</td>\n",
       "    </tr>\n",
       "    <tr>\n",
       "      <td>4</td>\n",
       "      <td>s10</td>\n",
       "      <td>18</td>\n",
       "      <td>stim</td>\n",
       "      <td>parietal</td>\n",
       "      <td>-0.037970</td>\n",
       "    </tr>\n",
       "  </tbody>\n",
       "</table>\n",
       "</div>"
      ],
      "text/plain": [
       "  subject  timepoint event    region    signal\n",
       "0     s13         18  stim  parietal -0.017552\n",
       "1      s5         14  stim  parietal -0.080883\n",
       "2     s12         18  stim  parietal -0.081033\n",
       "3     s11         18  stim  parietal -0.046134\n",
       "4     s10         18  stim  parietal -0.037970"
      ]
     },
     "execution_count": 6,
     "metadata": {},
     "output_type": "execute_result"
    }
   ],
   "source": [
    "# Revisamos las 5 primeras filas\n",
    "fmri.head()"
   ]
  },
  {
   "cell_type": "code",
   "execution_count": 7,
   "metadata": {},
   "outputs": [
    {
     "name": "stdout",
     "output_type": "stream",
     "text": [
      "     subject  timepoint event   region    signal\n",
      "605      s13          5   cue  frontal  0.056731\n",
      "625      s13          0   cue  frontal -0.012576\n",
      "637      s13          4   cue  frontal  0.058704\n",
      "651      s13          3   cue  frontal  0.034135\n",
      "659      s13          6   cue  frontal  0.022420\n",
      "680      s13         17   cue  frontal -0.004190\n",
      "708      s13         18   cue  frontal -0.012163\n",
      "730      s13         14   cue  frontal -0.005701\n",
      "770      s13         15   cue  frontal -0.003053\n",
      "784      s13         16   cue  frontal -0.002522\n",
      "938      s13         11   cue  frontal -0.040369\n",
      "952      s13         10   cue  frontal -0.066287\n",
      "960      s13         13   cue  frontal -0.009388\n",
      "981      s13          2   cue  frontal  0.004396\n",
      "995      s13          1   cue  frontal -0.010346\n",
      "1016     s13          9   cue  frontal -0.082955\n",
      "1029     s13          8   cue  frontal -0.070991\n",
      "1040     s13         12   cue  frontal -0.020686\n",
      "1060     s13          7   cue  frontal -0.029130\n"
     ]
    }
   ],
   "source": [
    "# Para poder graficar una solo seria de puntos\n",
    "# (una observación en cada momento en el tiempo) vamos a elegir:\n",
    "# un paciente: s13\n",
    "# un evento observado: cue (podría ser 'stim')\n",
    "# una región del cerebro observada: frontal (podría ser parietal)\n",
    "\n",
    "subject13 = fmri.loc[ (fmri.subject == 's13') & (fmri.event == 'cue') & (fmri.region == 'frontal') ]\n",
    "print(subject13)"
   ]
  },
  {
   "cell_type": "code",
   "execution_count": 8,
   "metadata": {},
   "outputs": [
    {
     "name": "stdout",
     "output_type": "stream",
     "text": [
      "     subject  timepoint event   region    signal\n",
      "625      s13          0   cue  frontal -0.012576\n",
      "995      s13          1   cue  frontal -0.010346\n",
      "981      s13          2   cue  frontal  0.004396\n",
      "651      s13          3   cue  frontal  0.034135\n",
      "637      s13          4   cue  frontal  0.058704\n",
      "605      s13          5   cue  frontal  0.056731\n",
      "659      s13          6   cue  frontal  0.022420\n",
      "1060     s13          7   cue  frontal -0.029130\n",
      "1029     s13          8   cue  frontal -0.070991\n",
      "1016     s13          9   cue  frontal -0.082955\n",
      "952      s13         10   cue  frontal -0.066287\n",
      "938      s13         11   cue  frontal -0.040369\n",
      "1040     s13         12   cue  frontal -0.020686\n",
      "960      s13         13   cue  frontal -0.009388\n",
      "730      s13         14   cue  frontal -0.005701\n",
      "770      s13         15   cue  frontal -0.003053\n",
      "784      s13         16   cue  frontal -0.002522\n",
      "680      s13         17   cue  frontal -0.004190\n",
      "708      s13         18   cue  frontal -0.012163\n"
     ]
    }
   ],
   "source": [
    "# Antes de graficar ordenaremos las filas en base a la columna timepoint\n",
    "subject13 = subject13.sort_values(by='timepoint')\n",
    "print(subject13)"
   ]
  },
  {
   "cell_type": "markdown",
   "metadata": {},
   "source": [
    "## C. Gráfico de puntos"
   ]
  },
  {
   "cell_type": "markdown",
   "metadata": {},
   "source": [
    "### C1. Usando matplotlib"
   ]
  },
  {
   "cell_type": "code",
   "execution_count": 14,
   "metadata": {},
   "outputs": [
    {
     "data": {
      "text/plain": [
       "[<matplotlib.lines.Line2D at 0x1a240595d0>]"
      ]
     },
     "execution_count": 14,
     "metadata": {},
     "output_type": "execute_result"
    },
    {
     "data": {
      "image/png": "[encoded data removed]",
      "text/plain": [
       "<Figure size 432x288 with 1 Axes>"
      ]
     },
     "metadata": {},
     "output_type": "display_data"
    }
   ],
   "source": [
    "# Grafiquemos la señal en 19 puntos en el tiempo del usuario s13\n",
    "\n",
    "sns.set() # Dejo por defecto los valores de seaborn\n",
    "sns.set_style('whitegrid')\n",
    "\n",
    "plt.plot(subject13.timepoint, subject13.signal, marker='o', linestyle='')"
   ]
  },
  {
   "cell_type": "markdown",
   "metadata": {},
   "source": [
    "### C.2 Gráfico de puntos con seaborn"
   ]
  },
  {
   "cell_type": "code",
   "execution_count": 18,
   "metadata": {},
   "outputs": [
    {
     "data": {
      "image/png": "[encoded data removed]",
      "text/plain": [
       "<Figure size 432x288 with 1 Axes>"
      ]
     },
     "metadata": {},
     "output_type": "display_data"
    }
   ],
   "source": [
    "# Graficamos los daltos dle subject 13 con seaborn\n",
    "ax = sns.lineplot(x='timepoint', y='signal', data=subject13, linewidth=0, marker = 'o')"
   ]
  },
  {
   "cell_type": "code",
   "execution_count": 20,
   "metadata": {},
   "outputs": [
    {
     "data": {
      "image/png": "[encoded data removed]",
      "text/plain": [
       "<Figure size 432x288 with 1 Axes>"
      ]
     },
     "metadata": {},
     "output_type": "display_data"
    }
   ],
   "source": [
    "# Usemos ahora todos los datos asociados a un mismo timepoint (no sólo subject 13)\n",
    "# El marker ahora es un promedio de las señales de un mismo timepoint:\n",
    "# podemos tener barras de desviación estándar asociadas\n",
    "# Estos es muy fácil de hacer con seaborn\n",
    "\n",
    "# Notar que para el lineplot de seaborn no tenemos que ordenar los datos previamente\n",
    "\n",
    "ax = sns.lineplot(x='timepoint', y='signal', color='green',\n",
    "                  data=fmri, linewidth=0, marker='s',\n",
    "                  err_style='bars') # err_style es para mostrar la banda de error"
   ]
  },
  {
   "cell_type": "code",
   "execution_count": null,
   "metadata": {},
   "outputs": [],
   "source": []
  }
 ],
 "metadata": {
  "kernelspec": {
   "display_name": "Python 3",
   "language": "python",
   "name": "python3"
  },
  "language_info": {
   "codemirror_mode": {
    "name": "ipython",
    "version": 3
   },
   "file_extension": ".py",
   "mimetype": "text/x-python",
   "name": "python",
   "nbconvert_exporter": "python",
   "pygments_lexer": "ipython3",
   "version": "3.7.4"
  }
 },
 "nbformat": 4,
 "nbformat_minor": 2
}
