{
 "cells": [
  {
   "cell_type": "markdown",
   "metadata": {},
   "source": [
    "# Clase 14 - Gráficos de flujo\n",
    "\n",
    "### Importar librerías requeridas"
   ]
  },
  {
   "cell_type": "code",
   "execution_count": 2,
   "metadata": {},
   "outputs": [],
   "source": [
    "# Importando librerías\n",
    "import pandas as pd\n",
    "import altair as alt"
   ]
  },
  {
   "cell_type": "code",
   "execution_count": 16,
   "metadata": {},
   "outputs": [
    {
     "data": {
      "text/plain": [
       "RendererRegistry.enable('default')"
      ]
     },
     "execution_count": 16,
     "metadata": {},
     "output_type": "execute_result"
    }
   ],
   "source": [
    "# Le indicamos a altair que estaremos trabajando en un notebook\n",
    "alt.renderers.enable('default')\n",
    "\n",
    "# Si el gráfico al final de este tutorial no funciona, probar con esta línea:\n",
    "#alt.renderers.enable('notebook')"
   ]
  },
  {
   "cell_type": "markdown",
   "metadata": {},
   "source": [
    "## Cargar dataset\n",
    "En esta ocasión, el dataset corresponde a la cantidad de libros leídos por una persona de diversos géneros entre el 2011 y 2019. Cada fila corresponde a la cantidad de libros de un género específico leído en un año específico."
   ]
  },
  {
   "cell_type": "code",
   "execution_count": 3,
   "metadata": {},
   "outputs": [
    {
     "data": {
      "text/plain": [
       "90"
      ]
     },
     "execution_count": 3,
     "metadata": {},
     "output_type": "execute_result"
    }
   ],
   "source": [
    "# Cargamos el dataset en un dataframe\n",
    "df = pd.read_csv('datasets/books.csv')\n",
    "\n",
    "len(df)"
   ]
  },
  {
   "cell_type": "code",
   "execution_count": 8,
   "metadata": {},
   "outputs": [
    {
     "data": {
      "text/html": [
       "<div>\n",
       "<style scoped>\n",
       "    .dataframe tbody tr th:only-of-type {\n",
       "        vertical-align: middle;\n",
       "    }\n",
       "\n",
       "    .dataframe tbody tr th {\n",
       "        vertical-align: top;\n",
       "    }\n",
       "\n",
       "    .dataframe thead th {\n",
       "        text-align: right;\n",
       "    }\n",
       "</style>\n",
       "<table border=\"1\" class=\"dataframe\">\n",
       "  <thead>\n",
       "    <tr style=\"text-align: right;\">\n",
       "      <th></th>\n",
       "      <th>genre</th>\n",
       "      <th>year</th>\n",
       "      <th>count</th>\n",
       "    </tr>\n",
       "  </thead>\n",
       "  <tbody>\n",
       "    <tr>\n",
       "      <td>0</td>\n",
       "      <td>acción</td>\n",
       "      <td>2010</td>\n",
       "      <td>17</td>\n",
       "    </tr>\n",
       "    <tr>\n",
       "      <td>1</td>\n",
       "      <td>acción</td>\n",
       "      <td>2011</td>\n",
       "      <td>19</td>\n",
       "    </tr>\n",
       "    <tr>\n",
       "      <td>2</td>\n",
       "      <td>acción</td>\n",
       "      <td>2012</td>\n",
       "      <td>12</td>\n",
       "    </tr>\n",
       "    <tr>\n",
       "      <td>3</td>\n",
       "      <td>acción</td>\n",
       "      <td>2013</td>\n",
       "      <td>9</td>\n",
       "    </tr>\n",
       "    <tr>\n",
       "      <td>4</td>\n",
       "      <td>acción</td>\n",
       "      <td>2014</td>\n",
       "      <td>11</td>\n",
       "    </tr>\n",
       "  </tbody>\n",
       "</table>\n",
       "</div>"
      ],
      "text/plain": [
       "    genre  year  count\n",
       "0  acción  2010     17\n",
       "1  acción  2011     19\n",
       "2  acción  2012     12\n",
       "3  acción  2013      9\n",
       "4  acción  2014     11"
      ]
     },
     "execution_count": 8,
     "metadata": {},
     "output_type": "execute_result"
    }
   ],
   "source": [
    "# Ver las primeras 5 líneas del archivo\n",
    "df.head()"
   ]
  },
  {
   "cell_type": "markdown",
   "metadata": {},
   "source": [
    "## Generar visualización\n",
    "Con altair definimos un gráfico cuyos datos será el dataframe (df) e indicamos que la marca a utilizar será el área"
   ]
  },
  {
   "cell_type": "code",
   "execution_count": 9,
   "metadata": {},
   "outputs": [],
   "source": [
    "plot = alt.Chart(df).mark_area()"
   ]
  },
  {
   "cell_type": "markdown",
   "metadata": {},
   "source": [
    "luego indicamos como se va a codificar este gráfico.\n",
    "* Primero indicamos con `alt.x(...)` cual será el **eje X**. En este caso es la columna \"year\" y ponemos un \":O\" para indicar que es un dato ordinal.\n",
    "* Segundo, indicamos con `alt.Y(...)` cual será el **eje Y**. En este caso es la columna \"count\" y ponemos \":Q\" para indicar que es un dato cuantitativo. Además, le indicamos que todas estas áreas del gráfico de flujo están alineadas en el centro y que no se muestre los números en el eje Y. Si no se ponen ambos argumentos (stack y axis), estaríamos frente a un gráfico de área aplidado.\n",
    "* Tercero, indicamos con `alt.Color(...)` cual columna utilizar para definir **el color**. En este caso es la columna \"genre\" y ponemos un \":N\" para indicar que es un dato nominal.\n",
    "\n",
    "Finalmente, luego de definir toda la codificación, hacemos un `.properties(width=600)` para indicar cuantos pixeles utilizar de ancho."
   ]
  },
  {
   "cell_type": "code",
   "execution_count": 10,
   "metadata": {},
   "outputs": [
    {
     "data": {
      "application/vnd.vegalite.v3+json": {
       "$schema": "https://vega.github.io/schema/vega-lite/v3.4.0.json",
       "config": {
        "mark": {
         "tooltip": null
        },
        "view": {
         "height": 300,
         "width": 400
        }
       },
       "data": {
        "name": "data-ec2a4d20363f503155f57006767b3588"
       },
       "datasets": {
        "data-ec2a4d20363f503155f57006767b3588": [
         {
          "count": 17,
          "genre": "acción",
          "year": 2010
         },
         {
          "count": 19,
          "genre": "acción",
          "year": 2011
         },
         {
          "count": 12,
          "genre": "acción",
          "year": 2012
         },
         {
          "count": 9,
          "genre": "acción",
          "year": 2013
         },
         {
          "count": 11,
          "genre": "acción",
          "year": 2014
         },
         {
          "count": 15,
          "genre": "acción",
          "year": 2015
         },
         {
          "count": 16,
          "genre": "acción",
          "year": 2016
         },
         {
          "count": 19,
          "genre": "acción",
          "year": 2017
         },
         {
          "count": 17,
          "genre": "acción",
          "year": 2018
         },
         {
          "count": 12,
          "genre": "acción",
          "year": 2019
         },
         {
          "count": 19,
          "genre": "aventura",
          "year": 2010
         },
         {
          "count": 19,
          "genre": "aventura",
          "year": 2011
         },
         {
          "count": 19,
          "genre": "aventura",
          "year": 2012
         },
         {
          "count": 8,
          "genre": "aventura",
          "year": 2013
         },
         {
          "count": 22,
          "genre": "aventura",
          "year": 2014
         },
         {
          "count": 21,
          "genre": "aventura",
          "year": 2015
         },
         {
          "count": 9,
          "genre": "aventura",
          "year": 2016
         },
         {
          "count": 10,
          "genre": "aventura",
          "year": 2017
         },
         {
          "count": 10,
          "genre": "aventura",
          "year": 2018
         },
         {
          "count": 19,
          "genre": "aventura",
          "year": 2019
         },
         {
          "count": 12,
          "genre": "comedia",
          "year": 2010
         },
         {
          "count": 15,
          "genre": "comedia",
          "year": 2011
         },
         {
          "count": 5,
          "genre": "comedia",
          "year": 2012
         },
         {
          "count": 21,
          "genre": "comedia",
          "year": 2013
         },
         {
          "count": 6,
          "genre": "comedia",
          "year": 2014
         },
         {
          "count": 7,
          "genre": "comedia",
          "year": 2015
         },
         {
          "count": 9,
          "genre": "comedia",
          "year": 2016
         },
         {
          "count": 11,
          "genre": "comedia",
          "year": 2017
         },
         {
          "count": 18,
          "genre": "comedia",
          "year": 2018
         },
         {
          "count": 9,
          "genre": "comedia",
          "year": 2019
         },
         {
          "count": 5,
          "genre": "drama",
          "year": 2010
         },
         {
          "count": 18,
          "genre": "drama",
          "year": 2011
         },
         {
          "count": 8,
          "genre": "drama",
          "year": 2012
         },
         {
          "count": 13,
          "genre": "drama",
          "year": 2013
         },
         {
          "count": 18,
          "genre": "drama",
          "year": 2014
         },
         {
          "count": 8,
          "genre": "drama",
          "year": 2015
         },
         {
          "count": 12,
          "genre": "drama",
          "year": 2016
         },
         {
          "count": 5,
          "genre": "drama",
          "year": 2017
         },
         {
          "count": 15,
          "genre": "drama",
          "year": 2018
         },
         {
          "count": 13,
          "genre": "drama",
          "year": 2019
         },
         {
          "count": 13,
          "genre": "terror",
          "year": 2010
         },
         {
          "count": 16,
          "genre": "terror",
          "year": 2011
         },
         {
          "count": 7,
          "genre": "terror",
          "year": 2012
         },
         {
          "count": 11,
          "genre": "terror",
          "year": 2013
         },
         {
          "count": 2,
          "genre": "terror",
          "year": 2014
         },
         {
          "count": 13,
          "genre": "terror",
          "year": 2015
         },
         {
          "count": 4,
          "genre": "terror",
          "year": 2016
         },
         {
          "count": 5,
          "genre": "terror",
          "year": 2017
         },
         {
          "count": 2,
          "genre": "terror",
          "year": 2018
         },
         {
          "count": 11,
          "genre": "terror",
          "year": 2019
         },
         {
          "count": 15,
          "genre": "guerras",
          "year": 2010
         },
         {
          "count": 18,
          "genre": "guerras",
          "year": 2011
         },
         {
          "count": 10,
          "genre": "guerras",
          "year": 2012
         },
         {
          "count": 17,
          "genre": "guerras",
          "year": 2013
         },
         {
          "count": 6,
          "genre": "guerras",
          "year": 2014
         },
         {
          "count": 6,
          "genre": "guerras",
          "year": 2015
         },
         {
          "count": 2,
          "genre": "guerras",
          "year": 2016
         },
         {
          "count": 17,
          "genre": "guerras",
          "year": 2017
         },
         {
          "count": 15,
          "genre": "guerras",
          "year": 2018
         },
         {
          "count": 17,
          "genre": "guerras",
          "year": 2019
         },
         {
          "count": 2,
          "genre": "crimen",
          "year": 2010
         },
         {
          "count": 3,
          "genre": "crimen",
          "year": 2011
         },
         {
          "count": 5,
          "genre": "crimen",
          "year": 2012
         },
         {
          "count": 11,
          "genre": "crimen",
          "year": 2013
         },
         {
          "count": 6,
          "genre": "crimen",
          "year": 2014
         },
         {
          "count": 3,
          "genre": "crimen",
          "year": 2015
         },
         {
          "count": 7,
          "genre": "crimen",
          "year": 2016
         },
         {
          "count": 15,
          "genre": "crimen",
          "year": 2017
         },
         {
          "count": 6,
          "genre": "crimen",
          "year": 2018
         },
         {
          "count": 6,
          "genre": "crimen",
          "year": 2019
         },
         {
          "count": 16,
          "genre": "romance",
          "year": 2010
         },
         {
          "count": 18,
          "genre": "romance",
          "year": 2011
         },
         {
          "count": 13,
          "genre": "romance",
          "year": 2012
         },
         {
          "count": 14,
          "genre": "romance",
          "year": 2013
         },
         {
          "count": 20,
          "genre": "romance",
          "year": 2014
         },
         {
          "count": 23,
          "genre": "romance",
          "year": 2015
         },
         {
          "count": 10,
          "genre": "romance",
          "year": 2016
         },
         {
          "count": 28,
          "genre": "romance",
          "year": 2017
         },
         {
          "count": 18,
          "genre": "romance",
          "year": 2018
         },
         {
          "count": 12,
          "genre": "romance",
          "year": 2019
         },
         {
          "count": 21,
          "genre": "mundo mágico",
          "year": 2010
         },
         {
          "count": 10,
          "genre": "mundo mágico",
          "year": 2011
         },
         {
          "count": 18,
          "genre": "mundo mágico",
          "year": 2012
         },
         {
          "count": 13,
          "genre": "mundo mágico",
          "year": 2013
         },
         {
          "count": 13,
          "genre": "mundo mágico",
          "year": 2014
         },
         {
          "count": 28,
          "genre": "mundo mágico",
          "year": 2015
         },
         {
          "count": 15,
          "genre": "mundo mágico",
          "year": 2016
         },
         {
          "count": 28,
          "genre": "mundo mágico",
          "year": 2017
         },
         {
          "count": 15,
          "genre": "mundo mágico",
          "year": 2018
         },
         {
          "count": 20,
          "genre": "mundo mágico",
          "year": 2019
         }
        ]
       },
       "encoding": {
        "color": {
         "field": "genre",
         "type": "nominal"
        },
        "x": {
         "field": "year",
         "type": "ordinal"
        },
        "y": {
         "axis": null,
         "field": "count",
         "stack": "center",
         "type": "quantitative"
        }
       },
       "mark": "area",
       "width": 600
      },
      "text/plain": [
       "<VegaLite 3 object>\n",
       "\n",
       "If you see this message, it means the renderer has not been properly enabled\n",
       "for the frontend that you are using. For more information, see\n",
       "https://altair-viz.github.io/user_guide/troubleshooting.html\n"
      ]
     },
     "execution_count": 10,
     "metadata": {},
     "output_type": "execute_result"
    }
   ],
   "source": [
    "plot.encode(\n",
    "    alt.X('year:O'),\n",
    "    alt.Y('count:Q', stack='center', axis=None),\n",
    "    alt.Color('genre:N')\n",
    ").properties(width=600)"
   ]
  },
  {
   "cell_type": "code",
   "execution_count": null,
   "metadata": {},
   "outputs": [],
   "source": []
  }
 ],
 "metadata": {
  "kernelspec": {
   "display_name": "Python 3",
   "language": "python",
   "name": "python3"
  },
  "language_info": {
   "codemirror_mode": {
    "name": "ipython",
    "version": 3
   },
   "file_extension": ".py",
   "mimetype": "text/x-python",
   "name": "python",
   "nbconvert_exporter": "python",
   "pygments_lexer": "ipython3",
   "version": "3.7.4"
  }
 },
 "nbformat": 4,
 "nbformat_minor": 2
}
